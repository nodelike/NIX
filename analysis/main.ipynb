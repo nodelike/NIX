{
 "cells": [
  {
   "cell_type": "code",
   "execution_count": 4,
   "metadata": {},
   "outputs": [],
   "source": [
    "import logging\n",
    "from kiteconnect import KiteConnect\n",
    "\n",
    "logging.basicConfig(level=logging.DEBUG)"
   ]
  },
  {
   "cell_type": "code",
   "execution_count": 5,
   "metadata": {},
   "outputs": [],
   "source": [
    "\n",
    "kite = KiteConnect(api_key=\"z8j06t7svnaindta\")\n",
    "\n",
    "# Redirect the user to the login url obtained\n",
    "# from kite.login_url(), and receive the request_token\n",
    "# from the registered redirect url after the login flow.\n",
    "# Once you have the request_token, obtain the access_token\n",
    "# as follows."
   ]
  },
  {
   "cell_type": "code",
   "execution_count": 6,
   "metadata": {},
   "outputs": [
    {
     "data": {
      "text/plain": [
       "'https://kite.zerodha.com/connect/login?api_key=z8j06t7svnaindta&v=3'"
      ]
     },
     "execution_count": 6,
     "metadata": {},
     "output_type": "execute_result"
    }
   ],
   "source": [
    "kite.login_url()"
   ]
  },
  {
   "cell_type": "code",
   "execution_count": null,
   "metadata": {},
   "outputs": [],
   "source": [
    "data = kite.generate_session(\"request_token_here\", api_secret=\"your_secret\")\n",
    "kite.set_access_token(data[\"access_token\"])"
   ]
  },
  {
   "cell_type": "code",
   "execution_count": 55,
   "metadata": {},
   "outputs": [],
   "source": [
    "def get_chunked_data(ticker_symbol):\n",
    "    chunks = []\n",
    "    current_start = start_date\n",
    "    \n",
    "    while current_start < end_date:\n",
    "        # Use smaller chunks (5 days) to avoid data gaps\n",
    "        current_end = min(current_start + timedelta(days=5), end_date)\n",
    "        try:\n",
    "            ticker = yf.Ticker(ticker_symbol)\n",
    "            chunk = ticker.history(\n",
    "                start=current_start.strftime(\"%Y-%m-%d\"),\n",
    "                end=current_end.strftime(\"%Y-%m-%d\"),\n",
    "                interval=\"1m\",\n",
    "                prepost=True  # Include pre and post market data\n",
    "            )\n",
    "            if not chunk.empty:\n",
    "                # Convert timezone to IST for both indices\n",
    "                chunk.index = chunk.index.tz_convert('Asia/Kolkata')\n",
    "                chunks.append(chunk)\n",
    "        except Exception as e:\n",
    "            print(f\"Error fetching data for {ticker_symbol} from {current_start} to {current_end}: {e}\")\n",
    "        \n",
    "        current_start = current_end\n",
    "    \n",
    "    if not chunks:\n",
    "        raise ValueError(f\"No data retrieved for {ticker_symbol}\")\n",
    "        \n",
    "    return pd.concat(chunks).sort_index().drop_duplicates()\n"
   ]
  },
  {
   "cell_type": "code",
   "execution_count": 56,
   "metadata": {},
   "outputs": [],
   "source": [
    "print(f\"Fetching NIFTY data from {start_date.date()} to {end_date.date()}\")\n",
    "nifty_df = get_chunked_data(\"^NSEI\")\n",
    "nifty_df.to_csv('nifty_1min_data-new.csv')\n",
    "\n",
    "# Get India VIX data\n",
    "print(f\"Fetching India VIX data from {start_date.date()} to {end_date.date()}\")\n",
    "vix_df = get_chunked_data(\"^INDIAVIX\")\n",
    "vix_df.to_csv('vix_1min_data-new.csv')\n",
    "\n",
    "print(f\"Data saved successfully\")\n",
    "print(f\"NIFTY records: {len(nifty_df)}\")\n",
    "print(f\"India VIX records: {len(vix_df)}\")"
   ]
  },
  {
   "cell_type": "code",
   "execution_count": 59,
   "metadata": {},
   "outputs": [
    {
     "name": "stdout",
     "output_type": "stream",
     "text": [
      "<class 'pandas.core.frame.DataFrame'>\n",
      "RangeIndex: 7123 entries, 0 to 7122\n",
      "Data columns (total 8 columns):\n",
      " #   Column        Non-Null Count  Dtype  \n",
      "---  ------        --------------  -----  \n",
      " 0   Datetime      7123 non-null   object \n",
      " 1   Open          7123 non-null   float64\n",
      " 2   High          7123 non-null   float64\n",
      " 3   Low           7123 non-null   float64\n",
      " 4   Close         7123 non-null   float64\n",
      " 5   Volume        7123 non-null   int64  \n",
      " 6   Dividends     7123 non-null   float64\n",
      " 7   Stock Splits  7123 non-null   float64\n",
      "dtypes: float64(6), int64(1), object(1)\n",
      "memory usage: 445.3+ KB\n",
      "<class 'pandas.core.frame.DataFrame'>\n",
      "RangeIndex: 7112 entries, 0 to 7111\n",
      "Data columns (total 8 columns):\n",
      " #   Column        Non-Null Count  Dtype  \n",
      "---  ------        --------------  -----  \n",
      " 0   Datetime      7112 non-null   object \n",
      " 1   Open          7112 non-null   float64\n",
      " 2   High          7112 non-null   float64\n",
      " 3   Low           7112 non-null   float64\n",
      " 4   Close         7112 non-null   float64\n",
      " 5   Volume        7112 non-null   int64  \n",
      " 6   Dividends     7112 non-null   float64\n",
      " 7   Stock Splits  7112 non-null   float64\n",
      "dtypes: float64(6), int64(1), object(1)\n",
      "memory usage: 444.6+ KB\n"
     ]
    }
   ],
   "source": []
  },
  {
   "cell_type": "code",
   "execution_count": null,
   "metadata": {},
   "outputs": [],
   "source": []
  }
 ],
 "metadata": {
  "kernelspec": {
   "display_name": "base",
   "language": "python",
   "name": "python3"
  },
  "language_info": {
   "codemirror_mode": {
    "name": "ipython",
    "version": 3
   },
   "file_extension": ".py",
   "mimetype": "text/x-python",
   "name": "python",
   "nbconvert_exporter": "python",
   "pygments_lexer": "ipython3",
   "version": "3.12.7"
  }
 },
 "nbformat": 4,
 "nbformat_minor": 2
}
